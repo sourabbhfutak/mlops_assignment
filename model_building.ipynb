{
 "cells": [
  {
   "cell_type": "code",
   "execution_count": 1,
   "id": "a64ef73e-65c1-4513-9785-e2659ad951aa",
   "metadata": {},
   "outputs": [],
   "source": [
    "#!pip install mlflow"
   ]
  },
  {
   "cell_type": "code",
   "execution_count": 3,
   "id": "a1fb2054-0b23-481c-a587-2dce712ce280",
   "metadata": {},
   "outputs": [],
   "source": [
    "import numpy as np\n",
    "from tensorflow.keras.datasets import imdb\n",
    "from sklearn.feature_extraction.text import TfidfVectorizer\n",
    "from sklearn.naive_bayes import MultinomialNB\n",
    "from sklearn.pipeline import Pipeline\n",
    "from sklearn.model_selection import GridSearchCV\n",
    "from sklearn.metrics import classification_report, confusion_matrix\n",
    "import joblib\n",
    "import nltk\n",
    "from nltk.corpus import stopwords\n",
    "from flask import Flask, request, jsonify\n",
    "import mlflow\n",
    "import mlflow.sklearn\n",
    "import re\n",
    "import warnings\n",
    "warnings.filterwarnings(\"ignore\")"
   ]
  },
  {
   "cell_type": "code",
   "execution_count": 5,
   "id": "d5232b52-c2dc-4dfc-a78d-eb9e2a3a6916",
   "metadata": {},
   "outputs": [
    {
     "name": "stderr",
     "output_type": "stream",
     "text": [
      "[nltk_data] Downloading package stopwords to\n",
      "[nltk_data]     C:\\Users\\mmish\\AppData\\Roaming\\nltk_data...\n",
      "[nltk_data]   Package stopwords is already up-to-date!\n"
     ]
    }
   ],
   "source": [
    "nltk.download('stopwords')\n",
    "stop_words = set(stopwords.words('english'))"
   ]
  },
  {
   "cell_type": "code",
   "execution_count": 7,
   "id": "9321cb71-c1fa-4a51-8b83-90a0e7a294c6",
   "metadata": {},
   "outputs": [],
   "source": [
    "(x_train, y_train), (x_test, y_test) = imdb.load_data(num_words=10000)"
   ]
  },
  {
   "cell_type": "code",
   "execution_count": 9,
   "id": "ebcc168c-ac1e-48db-a10d-54ff93d48da2",
   "metadata": {},
   "outputs": [],
   "source": [
    "# Word index mapping\n",
    "word_index = imdb.get_word_index()\n",
    "reverse_word_index = {v: k for k, v in word_index.items()}"
   ]
  },
  {
   "cell_type": "code",
   "execution_count": 11,
   "id": "e5f9d31a-0ecb-4774-b40c-09398d98e056",
   "metadata": {},
   "outputs": [],
   "source": [
    "# Decode reviews\n",
    "def decode_review(encoded_review):\n",
    "    return ' '.join([reverse_word_index.get(i - 3, '?') for i in encoded_review])"
   ]
  },
  {
   "cell_type": "code",
   "execution_count": 13,
   "id": "cd09af0d-5528-49a5-96c7-b431ffa4bfa6",
   "metadata": {},
   "outputs": [],
   "source": [
    "# Decode and preprocess\n",
    "def preprocess(text):\n",
    "    text = text.lower()\n",
    "    text = re.sub(r'[^a-zA-Z]', ' ', text)\n",
    "    tokens = text.split()\n",
    "    tokens = [word for word in tokens if word not in stop_words]\n",
    "    return ' '.join(tokens)\n",
    "\n",
    "decoded_train = [preprocess(decode_review(r)) for r in x_train]\n",
    "decoded_test = [preprocess(decode_review(r)) for r in x_test]"
   ]
  },
  {
   "cell_type": "code",
   "execution_count": 15,
   "id": "c2382e01-066f-4f64-8ba0-f261975038ce",
   "metadata": {},
   "outputs": [
    {
     "name": "stderr",
     "output_type": "stream",
     "text": [
      "2025/07/05 18:37:34 INFO mlflow.tracking.fluent: Experiment with name 'Sentiment_Analysis_Movie_Reviews' does not exist. Creating a new experiment.\n"
     ]
    },
    {
     "name": "stdout",
     "output_type": "stream",
     "text": [
      "Fitting 3 folds for each of 8 candidates, totalling 24 fits\n"
     ]
    },
    {
     "name": "stderr",
     "output_type": "stream",
     "text": [
      "2025/07/05 18:42:52 WARNING mlflow.models.model: `artifact_path` is deprecated. Please use `name` instead.\n",
      "2025/07/05 18:43:06 WARNING mlflow.models.model: Model logged without a signature and input example. Please set `input_example` parameter when logging the model to auto infer the model signature.\n"
     ]
    },
    {
     "name": "stdout",
     "output_type": "stream",
     "text": [
      "\n",
      "✅ Best accuracy: 0.85752\n",
      "✅ Best parameters: {'nb__alpha': 1.0, 'tfidf__max_df': 0.9, 'tfidf__ngram_range': (1, 2)}\n",
      "\n",
      "📊 Classification Report:\n",
      "              precision    recall  f1-score   support\n",
      "\n",
      "           0       0.85      0.86      0.86     12500\n",
      "           1       0.86      0.85      0.86     12500\n",
      "\n",
      "    accuracy                           0.86     25000\n",
      "   macro avg       0.86      0.86      0.86     25000\n",
      "weighted avg       0.86      0.86      0.86     25000\n",
      "\n"
     ]
    },
    {
     "name": "stderr",
     "output_type": "stream",
     "text": [
      "Successfully registered model 'SentimentClassifier'.\n",
      "Created version '1' of model 'SentimentClassifier'.\n"
     ]
    }
   ],
   "source": [
    "#ML flow and Hyperparameter tuning\n",
    "mlflow.set_experiment(\"Sentiment_Analysis_Movie_Reviews\")\n",
    "\n",
    "model_pipeline = Pipeline([\n",
    "    ('tfidf', TfidfVectorizer(max_features=10000)),\n",
    "    ('nb', MultinomialNB())\n",
    "])\n",
    "\n",
    "params = {\n",
    "    'tfidf__max_df': [0.9, 1.0],\n",
    "    'tfidf__ngram_range': [(1,1), (1,2)],\n",
    "    'nb__alpha': [0.5, 1.0]\n",
    "}\n",
    "\n",
    "with mlflow.start_run():\n",
    "    grid = GridSearchCV(model_pipeline, param_grid=params, cv=3, scoring='accuracy', verbose=1)\n",
    "    grid.fit(decoded_train, y_train)\n",
    "    test_preds = grid.predict(decoded_test)\n",
    "    acc = np.mean(test_preds == y_test)\n",
    "    mlflow.log_param(\"best_params\", grid.best_params_)\n",
    "    mlflow.log_metric(\"accuracy\", acc)\n",
    "    #mlflow.sklearn.log_model(grid.best_estimator_, \"best_model\")\n",
    "    mlflow.sklearn.log_model(\n",
    "    sk_model=grid.best_estimator_,\n",
    "    artifact_path=\"model\",  # this is just a folder name\n",
    "    registered_model_name=\"SentimentClassifier\"  # human-readable name in the model registry\n",
    ")\n",
    "\n",
    "    print(f\"\\n✅ Best accuracy: {acc}\")\n",
    "    print(f\"✅ Best parameters: {grid.best_params_}\")\n",
    "    print(\"\\n📊 Classification Report:\")\n",
    "    print(classification_report(y_test, test_preds))"
   ]
  },
  {
   "cell_type": "code",
   "execution_count": 17,
   "id": "824ebe68-69c0-4acf-b463-1a8686028b81",
   "metadata": {},
   "outputs": [
    {
     "data": {
      "text/plain": [
       "['best_sentiment_model.pkl']"
      ]
     },
     "execution_count": 17,
     "metadata": {},
     "output_type": "execute_result"
    }
   ],
   "source": [
    "# Save best model\n",
    "joblib.dump(grid.best_estimator_, \"best_sentiment_model.pkl\")"
   ]
  },
  {
   "cell_type": "code",
   "execution_count": null,
   "id": "7b72d4a6-27e4-4085-848e-093b2d65a9dd",
   "metadata": {},
   "outputs": [],
   "source": []
  }
 ],
 "metadata": {
  "kernelspec": {
   "display_name": "Python 3 (ipykernel)",
   "language": "python",
   "name": "python3"
  },
  "language_info": {
   "codemirror_mode": {
    "name": "ipython",
    "version": 3
   },
   "file_extension": ".py",
   "mimetype": "text/x-python",
   "name": "python",
   "nbconvert_exporter": "python",
   "pygments_lexer": "ipython3",
   "version": "3.12.7"
  }
 },
 "nbformat": 4,
 "nbformat_minor": 5
}
